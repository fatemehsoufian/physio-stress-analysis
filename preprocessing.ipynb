{
 "cells": [
  {
   "cell_type": "markdown",
   "metadata": {},
   "source": [
    "### Extra original data\n",
    "\n",
    "-  zip is deflated\n",
    "\n",
    "```bash\n",
    "unzip doi_10_5061_dryad_5hqbzkh6f__v20210917.zip\n",
    "mkdir stress_dataset\n",
    "unzip Stress_dataset.zip -d stress_dataset\n",
    "```\n",
    "\n",
    "- then run below command to unzip recursively"
   ]
  },
  {
   "cell_type": "code",
   "execution_count": null,
   "metadata": {},
   "outputs": [],
   "source": [
    "import subprocess\n",
    "\n",
    "command = \"\"\"\n",
    "find stress_dataset -name '*.zip' -exec sh -c '\n",
    "  for zipfile; do\n",
    "    # Extract the base folder name (without .zip)\n",
    "    foldername=$(basename \"$zipfile\" .zip)\n",
    "\n",
    "    # Create the target directory under stress_data_extracted with the same folder name\n",
    "    dir=\"stress_data_extracted/$(dirname \"$zipfile\" | sed \"s|^stress_dataset||\")/$foldername\"\n",
    "    mkdir -p \"$dir\"\n",
    "\n",
    "    # Extract the ZIP file into that folder without overwriting existing files\n",
    "    unzip -n \"$zipfile\" -d \"$dir\"\n",
    "  done\n",
    "' sh {} +\n",
    "\"\"\"\n",
    "\n",
    "subprocess.run(command, shell=True, check=True)"
   ]
  },
  {
   "cell_type": "markdown",
   "metadata": {},
   "source": [
    "- Probably can use tree to view the data dir\n",
    "\n",
    "```bash\n",
    "mv stress_dataset_extracted stress_dataset\n",
    "```\n",
    "\n",
    "```bash\n",
    "sudo apt-get install tree\n",
    "tree stress_dataset > directory_tree.txt\n",
    "```\n",
    "\n",
    "- Take a look at `directory_tree.txt`"
   ]
  },
  {
   "cell_type": "markdown",
   "metadata": {},
   "source": [
    "# Preprocessing\n",
    "\n",
    "<span style=\"color:red\"># TODO:</span> Since our data is fragmented, do we need some kind of preprocessing to unify our data? Or should we code a function to load them? Or we turn it into SQL?"
   ]
  },
  {
   "cell_type": "code",
   "execution_count": null,
   "metadata": {},
   "outputs": [],
   "source": [
    "# Code here"
   ]
  }
 ],
 "metadata": {
  "kernelspec": {
   "display_name": ".venv",
   "language": "python",
   "name": "python3"
  },
  "language_info": {
   "codemirror_mode": {
    "name": "ipython",
    "version": 3
   },
   "file_extension": ".py",
   "mimetype": "text/x-python",
   "name": "python",
   "nbconvert_exporter": "python",
   "pygments_lexer": "ipython3",
   "version": "3.12.3"
  }
 },
 "nbformat": 4,
 "nbformat_minor": 2
}
